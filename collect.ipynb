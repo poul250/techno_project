{
 "cells": [
  {
   "cell_type": "code",
<<<<<<< HEAD
   "execution_count": 33,
=======
   "execution_count": 236,
>>>>>>> 913128f13078d13b7f22d63477f4f3dc31b63668
   "metadata": {},
   "outputs": [],
   "source": [
    "import os\n",
    "import pandas as pd\n",
    "import re\n",
<<<<<<< HEAD
    "from glob import glob"
=======
    "import glob"
>>>>>>> 913128f13078d13b7f22d63477f4f3dc31b63668
   ]
  },
  {
   "cell_type": "code",
<<<<<<< HEAD
   "execution_count": 34,
=======
   "execution_count": 237,
>>>>>>> 913128f13078d13b7f22d63477f4f3dc31b63668
   "metadata": {},
   "outputs": [],
   "source": [
    "def fix_url(url):\n",
    "    match = re.match((r\"https://www.avito.ru/user/(.*?)/profile\"), url)\n",
    "    res = url if match is None else match.group(0)\n",
    "    return res"
   ]
  },
  {
   "cell_type": "code",
<<<<<<< HEAD
   "execution_count": 35,
=======
   "execution_count": 239,
>>>>>>> 913128f13078d13b7f22d63477f4f3dc31b63668
   "metadata": {},
   "outputs": [
    {
     "name": "stdout",
     "output_type": "stream",
     "text": [
      "data\\avito_data2.csv\n",
      "data\\avito_data2018-11-28 10.50.54.404224.csv\n",
      "data\\avito_data2018-11-28 10.52.48.095171.csv\n",
      "data\\avito_data2018-11-28 10.54.11.122232.csv\n",
      "data\\avito_data2018-11-28 12.47.18.304671.csv\n",
      "data\\avito_data2018-11-28 12.56.01.624416.csv\n",
      "data\\avito_data2018-11-28 13.04.13.751149.csv\n",
      "data\\avito_data2018-11-28 13.12.50.684429.csv\n",
      "data\\avito_data2018-11-28 13.25.45.271468.csv\n",
      "data\\avito_data2018-11-28 13.25.54.577157.csv\n",
      "data\\avito_data2018-11-28 13.27.57.122842.csv\n",
      "data\\avito_data2018-11-28 13.29.51.280006.csv\n",
      "data\\avito_data2018-11-28 13.31.29.020061.csv\n",
      "data\\avito_data2018-11-28 13.46.57.075883.csv\n",
      "data\\avito_data2018-11-28 13.54.12.531078.csv\n",
      "data\\avito_data2018-11-28 14.03.01.321899.csv\n",
      "data\\avito_data2018-11-28 14.10.45.015958.csv\n",
      "data\\avito_data2018-11-28 14.19.45.408288.csv\n",
      "data\\avito_data2018-11-28 14.31.35.743355.csv\n",
      "data\\avito_data2018-11-28 14.40.01.581198.csv\n",
      "data\\avito_data2018-11-28 14.40.51.091213.csv\n",
      "data\\avito_data2018-11-28 14.48.54.747524.csv\n",
      "data\\avito_data2018-11-28 14.58.49.530340.csv\n",
      "data\\avito_data2018-11-28 15.07.59.176750.csv\n",
      "data\\avito_data2018-11-28 15.10.09.519409.csv\n",
      "data\\avito_data2018-11-28 15.12.14.557936.csv\n",
      "data\\avito_data2018-11-28 15.13.29.605997.csv\n",
      "data\\avito_data2018-11-28 15.14.44.865232.csv\n",
      "data\\avito_data2018-11-28 15.49.20.517195.csv\n",
      "data\\avito_data2018-11-28 15.51.37.770088.csv\n",
      "data\\avito_data2018-11-28 15.56.55.960042.csv\n",
      "data\\avito_data2018-11-28 16.05.51.063974.csv\n",
      "data\\avito_data2018-11-28 16.08.09.816473.csv\n",
      "data\\avito_data2018-11-28 17.00.33.654708.csv\n",
      "data\\avito_data2018-11-28 17.22.28.757398.csv\n",
      "data\\avito_data2018-11-28 17.29.38.166910.csv\n",
      "data\\avito_data2018-11-28 17.40.58.651267.csv\n",
      "data\\avito_data2018-11-28 17.51.03.624957.csv\n",
      "data\\avito_data2018-11-28 18.15.12.338510.csv\n",
      "data\\avito_data2018-11-28 18.16.33.522916.csv\n",
      "data\\avito_data2018-11-28 18.18.02.276063.csv\n",
      "data\\avito_data2018-11-28 18.19.42.770175.csv\n",
      "data\\data_full.csv\n",
      "data\\data_full_unique.csv\n"
     ]
    }
   ],
   "source": [
    "dfs = []\n",
<<<<<<< HEAD
    "for filename in glob('data\\\\*.csv'):\n",
    "    print(filename)\n",
    "    df = pd.read_csv(filename)\n",
    "    df = df.drop([\"Unnamed: 0\"], axis=1)\n",
=======
    "directory = 'full_data_parts'\n",
    "for file_name in glob.glob(os.path.join(directory, '*.csv')):\n",
    "    df = pd.read_csv(file_name).drop([\"Unnamed: 0\"], axis=1)\n",
>>>>>>> 913128f13078d13b7f22d63477f4f3dc31b63668
    "    df['url'] = df['url'].apply(fix_url)\n",
    "    dfs.append(df)"
   ]
  },
  {
   "cell_type": "code",
<<<<<<< HEAD
   "execution_count": 36,
=======
   "execution_count": 240,
>>>>>>> 913128f13078d13b7f22d63477f4f3dc31b63668
   "metadata": {},
   "outputs": [],
   "source": [
    "data_full = pd.concat(dfs, ignore_index=True, sort=False)"
   ]
  },
  {
   "cell_type": "code",
<<<<<<< HEAD
   "execution_count": 37,
=======
   "execution_count": 241,
>>>>>>> 913128f13078d13b7f22d63477f4f3dc31b63668
   "metadata": {},
   "outputs": [
    {
     "data": {
      "text/html": [
       "<div>\n",
       "<style scoped>\n",
       "    .dataframe tbody tr th:only-of-type {\n",
       "        vertical-align: middle;\n",
       "    }\n",
       "\n",
       "    .dataframe tbody tr th {\n",
       "        vertical-align: top;\n",
       "    }\n",
       "\n",
       "    .dataframe thead th {\n",
       "        text-align: right;\n",
       "    }\n",
       "</style>\n",
       "<table border=\"1\" class=\"dataframe\">\n",
       "  <thead>\n",
       "    <tr style=\"text-align: right;\">\n",
       "      <th></th>\n",
       "      <th>active_finished_ratio</th>\n",
       "      <th>answer_time</th>\n",
       "      <th>first_sold_time</th>\n",
       "      <th>max_active_cost</th>\n",
       "      <th>max_finished_cost</th>\n",
       "      <th>mean_active_cost</th>\n",
       "      <th>mean_finished_cost</th>\n",
       "      <th>min_active_cost</th>\n",
       "      <th>min_finished_cost</th>\n",
       "      <th>n_active</th>\n",
       "      <th>n_finished</th>\n",
       "      <th>name</th>\n",
       "      <th>person_status</th>\n",
       "      <th>start_date</th>\n",
       "      <th>url</th>\n",
       "    </tr>\n",
       "  </thead>\n",
       "  <tbody>\n",
       "    <tr>\n",
       "      <th>0</th>\n",
<<<<<<< HEAD
       "      <td>0.50</td>\n",
       "      <td>Редко отвечает на сообщения, рекомендуем звонить</td>\n",
       "      <td>736230.0</td>\n",
       "      <td>2000.0</td>\n",
       "      <td>1500.0</td>\n",
       "      <td>758.571429</td>\n",
       "      <td>454.651163</td>\n",
       "      <td>80.0</td>\n",
       "      <td>0.0</td>\n",
       "      <td>21</td>\n",
       "      <td>43</td>\n",
       "      <td>ольга</td>\n",
       "      <td>частное лицо</td>\n",
       "      <td>736208.0</td>\n",
       "      <td>https://www.avito.ru/user/58dfb60d8c582e496a78...</td>\n",
       "    </tr>\n",
       "    <tr>\n",
       "      <th>1</th>\n",
       "      <td>0.50</td>\n",
       "      <td>Редко отвечает на сообщения, рекомендуем звонить</td>\n",
       "      <td>736230.0</td>\n",
       "      <td>2000.0</td>\n",
       "      <td>1500.0</td>\n",
       "      <td>758.571429</td>\n",
       "      <td>454.651163</td>\n",
       "      <td>80.0</td>\n",
       "      <td>0.0</td>\n",
       "      <td>21</td>\n",
       "      <td>43</td>\n",
       "      <td>ольга</td>\n",
       "      <td>частное лицо</td>\n",
       "      <td>736208.0</td>\n",
       "      <td>https://www.avito.ru/user/58dfb60d8c582e496a78...</td>\n",
       "    </tr>\n",
       "    <tr>\n",
       "      <th>2</th>\n",
       "      <td>3.50</td>\n",
       "      <td>NaN</td>\n",
       "      <td>736847.0</td>\n",
       "      <td>1300.0</td>\n",
       "      <td>1500.0</td>\n",
       "      <td>511.538462</td>\n",
       "      <td>900.000000</td>\n",
       "      <td>100.0</td>\n",
       "      <td>500.0</td>\n",
       "      <td>13</td>\n",
       "      <td>3</td>\n",
       "      <td>katya</td>\n",
       "      <td>частное лицо</td>\n",
       "      <td>736695.0</td>\n",
       "      <td>https://www.avito.ru/user/ae5aba1844c7fd711dde...</td>\n",
       "    </tr>\n",
       "    <tr>\n",
       "      <th>3</th>\n",
       "      <td>8.00</td>\n",
       "      <td>NaN</td>\n",
       "      <td>NaN</td>\n",
       "      <td>2600.0</td>\n",
       "      <td>NaN</td>\n",
       "      <td>1214.285714</td>\n",
       "      <td>NaN</td>\n",
       "      <td>500.0</td>\n",
       "      <td>NaN</td>\n",
       "      <td>7</td>\n",
       "      <td>0</td>\n",
       "      <td>светлана</td>\n",
       "      <td>частное лицо</td>\n",
       "      <td>736999.0</td>\n",
       "      <td>https://www.avito.ru/user/c9b6acf274a118025050...</td>\n",
       "    </tr>\n",
       "    <tr>\n",
       "      <th>4</th>\n",
       "      <td>1.85</td>\n",
       "      <td>Отвечает за несколько часов</td>\n",
       "      <td>735758.0</td>\n",
       "      <td>22000.0</td>\n",
       "      <td>5000.0</td>\n",
       "      <td>3213.888889</td>\n",
       "      <td>1865.789474</td>\n",
       "      <td>400.0</td>\n",
       "      <td>400.0</td>\n",
       "      <td>36</td>\n",
       "      <td>19</td>\n",
       "      <td>надежда</td>\n",
       "      <td>компания</td>\n",
       "      <td>735507.0</td>\n",
       "      <td>https://www.avito.ru/user/1bc5b242146baab0d7b9...</td>\n",
=======
       "      <td>юлия</td>\n",
       "      <td>частное лицо</td>\n",
       "      <td>https://www.avito.ru/user/e675b5aa6a59a49a07f1...</td>\n",
       "      <td>735933.0</td>\n",
       "      <td>NaN</td>\n",
       "      <td>736637.0</td>\n",
       "      <td>5</td>\n",
       "      <td>4</td>\n",
       "      <td>1.200000</td>\n",
       "      <td>700.0</td>\n",
       "      <td>2000.0</td>\n",
       "      <td>1500.000000</td>\n",
       "      <td>1500.0</td>\n",
       "      <td>48000.0</td>\n",
       "      <td>14250.000000</td>\n",
       "    </tr>\n",
       "    <tr>\n",
       "      <th>1</th>\n",
       "      <td>тимур</td>\n",
       "      <td>частное лицо</td>\n",
       "      <td>https://www.avito.ru/user/fe7fd0b1265035089870...</td>\n",
       "      <td>736238.0</td>\n",
       "      <td>Редко отвечает на сообщения, рекомендуем звонить</td>\n",
       "      <td>736569.0</td>\n",
       "      <td>9</td>\n",
       "      <td>38</td>\n",
       "      <td>0.256410</td>\n",
       "      <td>15000.0</td>\n",
       "      <td>160000.0</td>\n",
       "      <td>95000.000000</td>\n",
       "      <td>6000.0</td>\n",
       "      <td>135000.0</td>\n",
       "      <td>30965.789474</td>\n",
       "    </tr>\n",
       "    <tr>\n",
       "      <th>2</th>\n",
       "      <td>мария</td>\n",
       "      <td>частное лицо</td>\n",
       "      <td>https://www.avito.ru/user/00713ae8806f3a6463b0...</td>\n",
       "      <td>734289.0</td>\n",
       "      <td>Отвечает за несколько часов</td>\n",
       "      <td>736932.0</td>\n",
       "      <td>17</td>\n",
       "      <td>7</td>\n",
       "      <td>2.250000</td>\n",
       "      <td>150.0</td>\n",
       "      <td>20000.0</td>\n",
       "      <td>1926.470588</td>\n",
       "      <td>100.0</td>\n",
       "      <td>3600.0</td>\n",
       "      <td>1000.000000</td>\n",
       "    </tr>\n",
       "    <tr>\n",
       "      <th>3</th>\n",
       "      <td>рина</td>\n",
       "      <td>частное лицо</td>\n",
       "      <td>https://www.avito.ru/user/df057f65bea189cfcfe8...</td>\n",
       "      <td>736968.0</td>\n",
       "      <td>Отвечает за несколько часов</td>\n",
       "      <td>736996.0</td>\n",
       "      <td>6</td>\n",
       "      <td>1</td>\n",
       "      <td>3.500000</td>\n",
       "      <td>50.0</td>\n",
       "      <td>1300.0</td>\n",
       "      <td>441.666667</td>\n",
       "      <td>230.0</td>\n",
       "      <td>230.0</td>\n",
       "      <td>230.000000</td>\n",
       "    </tr>\n",
       "    <tr>\n",
       "      <th>4</th>\n",
       "      <td>ольга</td>\n",
       "      <td>компания</td>\n",
       "      <td>https://www.avito.ru/user/73faa702e229be14ee50...</td>\n",
       "      <td>735203.0</td>\n",
       "      <td>Отвечает за несколько часов</td>\n",
       "      <td>735780.0</td>\n",
       "      <td>41</td>\n",
       "      <td>81</td>\n",
       "      <td>0.512195</td>\n",
       "      <td>500.0</td>\n",
       "      <td>8000.0</td>\n",
       "      <td>2036.585366</td>\n",
       "      <td>0.0</td>\n",
       "      <td>12000.0</td>\n",
       "      <td>1777.160494</td>\n",
>>>>>>> 913128f13078d13b7f22d63477f4f3dc31b63668
       "    </tr>\n",
       "  </tbody>\n",
       "</table>\n",
       "</div>"
      ],
      "text/plain": [
<<<<<<< HEAD
       "   active_finished_ratio                                       answer_time  \\\n",
       "0                   0.50  Редко отвечает на сообщения, рекомендуем звонить   \n",
       "1                   0.50  Редко отвечает на сообщения, рекомендуем звонить   \n",
       "2                   3.50                                               NaN   \n",
       "3                   8.00                                               NaN   \n",
       "4                   1.85                       Отвечает за несколько часов   \n",
       "\n",
       "   first_sold_time  max_active_cost  max_finished_cost  mean_active_cost  \\\n",
       "0         736230.0           2000.0             1500.0        758.571429   \n",
       "1         736230.0           2000.0             1500.0        758.571429   \n",
       "2         736847.0           1300.0             1500.0        511.538462   \n",
       "3              NaN           2600.0                NaN       1214.285714   \n",
       "4         735758.0          22000.0             5000.0       3213.888889   \n",
       "\n",
       "   mean_finished_cost  min_active_cost  min_finished_cost  n_active  \\\n",
       "0          454.651163             80.0                0.0        21   \n",
       "1          454.651163             80.0                0.0        21   \n",
       "2          900.000000            100.0              500.0        13   \n",
       "3                 NaN            500.0                NaN         7   \n",
       "4         1865.789474            400.0              400.0        36   \n",
       "\n",
       "   n_finished      name person_status  start_date  \\\n",
       "0          43     ольга  частное лицо    736208.0   \n",
       "1          43     ольга  частное лицо    736208.0   \n",
       "2           3     katya  частное лицо    736695.0   \n",
       "3           0  светлана  частное лицо    736999.0   \n",
       "4          19   надежда      компания    735507.0   \n",
       "\n",
       "                                                 url  \n",
       "0  https://www.avito.ru/user/58dfb60d8c582e496a78...  \n",
       "1  https://www.avito.ru/user/58dfb60d8c582e496a78...  \n",
       "2  https://www.avito.ru/user/ae5aba1844c7fd711dde...  \n",
       "3  https://www.avito.ru/user/c9b6acf274a118025050...  \n",
       "4  https://www.avito.ru/user/1bc5b242146baab0d7b9...  "
      ]
     },
     "execution_count": 37,
=======
       "    name person_status                                                url  \\\n",
       "0   юлия  частное лицо  https://www.avito.ru/user/e675b5aa6a59a49a07f1...   \n",
       "1  тимур  частное лицо  https://www.avito.ru/user/fe7fd0b1265035089870...   \n",
       "2  мария  частное лицо  https://www.avito.ru/user/00713ae8806f3a6463b0...   \n",
       "3   рина  частное лицо  https://www.avito.ru/user/df057f65bea189cfcfe8...   \n",
       "4  ольга      компания  https://www.avito.ru/user/73faa702e229be14ee50...   \n",
       "\n",
       "   start_date                                       answer_time  \\\n",
       "0    735933.0                                               NaN   \n",
       "1    736238.0  Редко отвечает на сообщения, рекомендуем звонить   \n",
       "2    734289.0                       Отвечает за несколько часов   \n",
       "3    736968.0                       Отвечает за несколько часов   \n",
       "4    735203.0                       Отвечает за несколько часов   \n",
       "\n",
       "   first_sold_time  n_active  n_finished  active_finished_ratio  \\\n",
       "0         736637.0         5           4               1.200000   \n",
       "1         736569.0         9          38               0.256410   \n",
       "2         736932.0        17           7               2.250000   \n",
       "3         736996.0         6           1               3.500000   \n",
       "4         735780.0        41          81               0.512195   \n",
       "\n",
       "   min_active_cost  max_active_cost  mean_active_cost  min_finished_cost  \\\n",
       "0            700.0           2000.0       1500.000000             1500.0   \n",
       "1          15000.0         160000.0      95000.000000             6000.0   \n",
       "2            150.0          20000.0       1926.470588              100.0   \n",
       "3             50.0           1300.0        441.666667              230.0   \n",
       "4            500.0           8000.0       2036.585366                0.0   \n",
       "\n",
       "   max_finished_cost  mean_finished_cost  \n",
       "0            48000.0        14250.000000  \n",
       "1           135000.0        30965.789474  \n",
       "2             3600.0         1000.000000  \n",
       "3              230.0          230.000000  \n",
       "4            12000.0         1777.160494  "
      ]
     },
     "execution_count": 241,
>>>>>>> 913128f13078d13b7f22d63477f4f3dc31b63668
     "metadata": {},
     "output_type": "execute_result"
    }
   ],
   "source": [
    "data_full.head()"
   ]
  },
  {
   "cell_type": "code",
<<<<<<< HEAD
   "execution_count": 38,
=======
   "execution_count": 242,
>>>>>>> 913128f13078d13b7f22d63477f4f3dc31b63668
   "metadata": {},
   "outputs": [
    {
     "data": {
      "text/plain": [
<<<<<<< HEAD
       "(3601, 15)"
      ]
     },
     "execution_count": 38,
=======
       "(11937, 15)"
      ]
     },
     "execution_count": 242,
>>>>>>> 913128f13078d13b7f22d63477f4f3dc31b63668
     "metadata": {},
     "output_type": "execute_result"
    }
   ],
   "source": [
    "data_full.shape"
   ]
  },
  {
   "cell_type": "code",
<<<<<<< HEAD
   "execution_count": 39,
=======
   "execution_count": 243,
>>>>>>> 913128f13078d13b7f22d63477f4f3dc31b63668
   "metadata": {},
   "outputs": [],
   "source": [
    "data_full.drop_duplicates(subset=['url'], keep='first', inplace=True)"
   ]
  },
  {
   "cell_type": "code",
<<<<<<< HEAD
   "execution_count": 40,
=======
   "execution_count": 244,
>>>>>>> 913128f13078d13b7f22d63477f4f3dc31b63668
   "metadata": {},
   "outputs": [
    {
     "data": {
      "text/plain": [
<<<<<<< HEAD
       "(3282, 15)"
      ]
     },
     "execution_count": 40,
=======
       "(5076, 15)"
      ]
     },
     "execution_count": 244,
>>>>>>> 913128f13078d13b7f22d63477f4f3dc31b63668
     "metadata": {},
     "output_type": "execute_result"
    }
   ],
   "source": [
    "data_full.shape"
   ]
  },
  {
   "cell_type": "code",
   "execution_count": 245,
   "metadata": {},
   "outputs": [],
   "source": [
    "data_full.to_csv('data_full.csv')"
   ]
<<<<<<< HEAD
  },
  {
   "cell_type": "code",
   "execution_count": 41,
   "metadata": {},
   "outputs": [],
   "source": [
    "data_full_unique.to_csv('data_full_unique.csv')"
   ]
  },
  {
   "cell_type": "code",
   "execution_count": null,
   "metadata": {},
   "outputs": [],
   "source": []
=======
>>>>>>> 913128f13078d13b7f22d63477f4f3dc31b63668
  }
 ],
 "metadata": {
  "kernelspec": {
   "display_name": "Python 3",
   "language": "python",
   "name": "python3"
  },
  "language_info": {
   "codemirror_mode": {
    "name": "ipython",
    "version": 3
   },
   "file_extension": ".py",
   "mimetype": "text/x-python",
   "name": "python",
   "nbconvert_exporter": "python",
   "pygments_lexer": "ipython3",
   "version": "3.6.4"
  }
 },
 "nbformat": 4,
 "nbformat_minor": 2
}
