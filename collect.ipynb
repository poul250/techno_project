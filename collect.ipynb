{
 "cells": [
  {
   "cell_type": "code",
   "execution_count": 126,
   "metadata": {},
   "outputs": [],
   "source": [
    "import os\n",
    "import pandas as pd\n",
    "import re"
   ]
  },
  {
   "cell_type": "code",
   "execution_count": 127,
   "metadata": {},
   "outputs": [],
   "source": [
    "def fix_url(url):\n",
    "    match = re.match((r\"https://www.avito.ru/user/(.*?)/profile\"), url)\n",
    "    res = url if match is None else match.group(0)\n",
    "    return res"
   ]
  },
  {
   "cell_type": "code",
   "execution_count": 128,
   "metadata": {},
   "outputs": [],
   "source": [
    "dfs = []\n",
    "path = 'full_data_parts'\n",
    "lst = os.listdir(path)\n",
    "for filename in lst:\n",
    "    df = pd.read_csv(path+'/'+filename, sep=',')\n",
    "    df = df.drop([\"Unnamed: 0\"], axis=1)\n",
    "    df['url'] = df['url'].apply(fix_url)\n",
    "    dfs.append(df)"
   ]
  },
  {
   "cell_type": "code",
   "execution_count": 129,
   "metadata": {},
   "outputs": [],
   "source": [
    "data_full = pd.concat(dfs, ignore_index=True, sort=False)"
   ]
  },
  {
   "cell_type": "code",
   "execution_count": 130,
   "metadata": {},
   "outputs": [
    {
     "data": {
      "text/html": [
       "<div>\n",
       "<style scoped>\n",
       "    .dataframe tbody tr th:only-of-type {\n",
       "        vertical-align: middle;\n",
       "    }\n",
       "\n",
       "    .dataframe tbody tr th {\n",
       "        vertical-align: top;\n",
       "    }\n",
       "\n",
       "    .dataframe thead th {\n",
       "        text-align: right;\n",
       "    }\n",
       "</style>\n",
       "<table border=\"1\" class=\"dataframe\">\n",
       "  <thead>\n",
       "    <tr style=\"text-align: right;\">\n",
       "      <th></th>\n",
       "      <th>name</th>\n",
       "      <th>person_status</th>\n",
       "      <th>url</th>\n",
       "      <th>start_date</th>\n",
       "      <th>answer_time</th>\n",
       "      <th>first_sold_time</th>\n",
       "      <th>n_active</th>\n",
       "      <th>n_finished</th>\n",
       "      <th>active_finished_ratio</th>\n",
       "      <th>min_active_cost</th>\n",
       "      <th>max_active_cost</th>\n",
       "      <th>mean_active_cost</th>\n",
       "      <th>min_finished_cost</th>\n",
       "      <th>max_finished_cost</th>\n",
       "      <th>mean_finished_cost</th>\n",
       "    </tr>\n",
       "  </thead>\n",
       "  <tbody>\n",
       "    <tr>\n",
       "      <th>0</th>\n",
       "      <td>ирина</td>\n",
       "      <td>компания</td>\n",
       "      <td>https://www.avito.ru/user/3af0d84c93c8c7e96dcf...</td>\n",
       "      <td>734777.0</td>\n",
       "      <td>Отвечает за несколько часов</td>\n",
       "      <td>NaN</td>\n",
       "      <td>35</td>\n",
       "      <td>0</td>\n",
       "      <td>36.000000</td>\n",
       "      <td>0.0</td>\n",
       "      <td>6500.0</td>\n",
       "      <td>894.285714</td>\n",
       "      <td>NaN</td>\n",
       "      <td>NaN</td>\n",
       "      <td>NaN</td>\n",
       "    </tr>\n",
       "    <tr>\n",
       "      <th>1</th>\n",
       "      <td>татьяна</td>\n",
       "      <td>компания</td>\n",
       "      <td>https://www.avito.ru/user/a6d9cec938b189b8b9ed...</td>\n",
       "      <td>736055.0</td>\n",
       "      <td>Отвечает за несколько часов</td>\n",
       "      <td>736065.0</td>\n",
       "      <td>38</td>\n",
       "      <td>61</td>\n",
       "      <td>0.629032</td>\n",
       "      <td>50.0</td>\n",
       "      <td>2000.0</td>\n",
       "      <td>456.578947</td>\n",
       "      <td>0.0</td>\n",
       "      <td>9000.0</td>\n",
       "      <td>548.196721</td>\n",
       "    </tr>\n",
       "    <tr>\n",
       "      <th>2</th>\n",
       "      <td>татьяна</td>\n",
       "      <td>компания</td>\n",
       "      <td>https://www.avito.ru/user/a6d9cec938b189b8b9ed...</td>\n",
       "      <td>736055.0</td>\n",
       "      <td>Отвечает за несколько часов</td>\n",
       "      <td>736065.0</td>\n",
       "      <td>38</td>\n",
       "      <td>61</td>\n",
       "      <td>0.629032</td>\n",
       "      <td>50.0</td>\n",
       "      <td>2000.0</td>\n",
       "      <td>456.578947</td>\n",
       "      <td>0.0</td>\n",
       "      <td>9000.0</td>\n",
       "      <td>548.196721</td>\n",
       "    </tr>\n",
       "    <tr>\n",
       "      <th>3</th>\n",
       "      <td>руслан</td>\n",
       "      <td>частное лицо</td>\n",
       "      <td>https://www.avito.ru/user/a0106d34604722c06e31...</td>\n",
       "      <td>736938.0</td>\n",
       "      <td>NaN</td>\n",
       "      <td>736947.0</td>\n",
       "      <td>1</td>\n",
       "      <td>3</td>\n",
       "      <td>0.500000</td>\n",
       "      <td>1490.0</td>\n",
       "      <td>1490.0</td>\n",
       "      <td>1490.000000</td>\n",
       "      <td>500.0</td>\n",
       "      <td>4000.0</td>\n",
       "      <td>2833.333333</td>\n",
       "    </tr>\n",
       "    <tr>\n",
       "      <th>4</th>\n",
       "      <td>михаил</td>\n",
       "      <td>частное лицо</td>\n",
       "      <td>https://www.avito.ru/user/e91e1c856a2a3f659641...</td>\n",
       "      <td>736938.0</td>\n",
       "      <td>Отвечает в течение дня</td>\n",
       "      <td>NaN</td>\n",
       "      <td>6</td>\n",
       "      <td>0</td>\n",
       "      <td>7.000000</td>\n",
       "      <td>2300.0</td>\n",
       "      <td>16000.0</td>\n",
       "      <td>7433.333333</td>\n",
       "      <td>NaN</td>\n",
       "      <td>NaN</td>\n",
       "      <td>NaN</td>\n",
       "    </tr>\n",
       "  </tbody>\n",
       "</table>\n",
       "</div>"
      ],
      "text/plain": [
       "      name person_status                                                url  \\\n",
       "0    ирина      компания  https://www.avito.ru/user/3af0d84c93c8c7e96dcf...   \n",
       "1  татьяна      компания  https://www.avito.ru/user/a6d9cec938b189b8b9ed...   \n",
       "2  татьяна      компания  https://www.avito.ru/user/a6d9cec938b189b8b9ed...   \n",
       "3   руслан  частное лицо  https://www.avito.ru/user/a0106d34604722c06e31...   \n",
       "4   михаил  частное лицо  https://www.avito.ru/user/e91e1c856a2a3f659641...   \n",
       "\n",
       "   start_date                  answer_time  first_sold_time  n_active  \\\n",
       "0    734777.0  Отвечает за несколько часов              NaN        35   \n",
       "1    736055.0  Отвечает за несколько часов         736065.0        38   \n",
       "2    736055.0  Отвечает за несколько часов         736065.0        38   \n",
       "3    736938.0                          NaN         736947.0         1   \n",
       "4    736938.0       Отвечает в течение дня              NaN         6   \n",
       "\n",
       "   n_finished  active_finished_ratio  min_active_cost  max_active_cost  \\\n",
       "0           0              36.000000              0.0           6500.0   \n",
       "1          61               0.629032             50.0           2000.0   \n",
       "2          61               0.629032             50.0           2000.0   \n",
       "3           3               0.500000           1490.0           1490.0   \n",
       "4           0               7.000000           2300.0          16000.0   \n",
       "\n",
       "   mean_active_cost  min_finished_cost  max_finished_cost  mean_finished_cost  \n",
       "0        894.285714                NaN                NaN                 NaN  \n",
       "1        456.578947                0.0             9000.0          548.196721  \n",
       "2        456.578947                0.0             9000.0          548.196721  \n",
       "3       1490.000000              500.0             4000.0         2833.333333  \n",
       "4       7433.333333                NaN                NaN                 NaN  "
      ]
     },
     "execution_count": 130,
     "metadata": {},
     "output_type": "execute_result"
    }
   ],
   "source": [
    "data_full.head()"
   ]
  },
  {
   "cell_type": "code",
   "execution_count": 131,
   "metadata": {},
   "outputs": [
    {
     "data": {
      "text/plain": [
       "(2914, 15)"
      ]
     },
     "execution_count": 131,
     "metadata": {},
     "output_type": "execute_result"
    }
   ],
   "source": [
    "data_full.shape"
   ]
  },
  {
   "cell_type": "code",
   "execution_count": 132,
   "metadata": {},
   "outputs": [],
   "source": [
    "data_full.drop_duplicates(subset=['url'], keep=False, inplace=True)"
   ]
  },
  {
   "cell_type": "code",
   "execution_count": 133,
   "metadata": {},
   "outputs": [
    {
     "data": {
      "text/plain": [
       "(2701, 15)"
      ]
     },
     "execution_count": 133,
     "metadata": {},
     "output_type": "execute_result"
    }
   ],
   "source": [
    "data_full.shape"
   ]
  },
  {
   "cell_type": "code",
   "execution_count": 134,
   "metadata": {},
   "outputs": [],
   "source": [
    "data_full.to_csv('data_full.csv')"
   ]
  }
 ],
 "metadata": {
  "kernelspec": {
   "display_name": "Python 3",
   "language": "python",
   "name": "python3"
  },
  "language_info": {
   "codemirror_mode": {
    "name": "ipython",
    "version": 3
   },
   "file_extension": ".py",
   "mimetype": "text/x-python",
   "name": "python",
   "nbconvert_exporter": "python",
   "pygments_lexer": "ipython3",
   "version": "3.7.0"
  }
 },
 "nbformat": 4,
 "nbformat_minor": 2
}
