{
 "cells": [
  {
   "cell_type": "code",
   "execution_count": 236,
   "metadata": {},
   "outputs": [],
   "source": [
    "import os\n",
    "import pandas as pd\n",
    "import re\n",
    "import glob"
   ]
  },
  {
   "cell_type": "code",
   "execution_count": 237,
   "metadata": {},
   "outputs": [],
   "source": [
    "def fix_url(url):\n",
    "    match = re.match((r\"https://www.avito.ru/user/(.*?)/profile\"), url)\n",
    "    res = url if match is None else match.group(0)\n",
    "    return res"
   ]
  },
  {
   "cell_type": "code",
   "execution_count": 239,
   "metadata": {},
   "outputs": [],
   "source": [
    "dfs = []\n",
    "directory = 'full_data_parts'\n",
    "for file_name in glob.glob(os.path.join(directory, '*.csv')):\n",
    "    df = pd.read_csv(file_name).drop([\"Unnamed: 0\"], axis=1)\n",
    "    df['url'] = df['url'].apply(fix_url)\n",
    "    dfs.append(df)"
   ]
  },
  {
   "cell_type": "code",
   "execution_count": 240,
   "metadata": {},
   "outputs": [],
   "source": [
    "data_full = pd.concat(dfs, ignore_index=True, sort=False)"
   ]
  },
  {
   "cell_type": "code",
   "execution_count": 241,
   "metadata": {},
   "outputs": [
    {
     "data": {
      "text/html": [
       "<div>\n",
       "<style scoped>\n",
       "    .dataframe tbody tr th:only-of-type {\n",
       "        vertical-align: middle;\n",
       "    }\n",
       "\n",
       "    .dataframe tbody tr th {\n",
       "        vertical-align: top;\n",
       "    }\n",
       "\n",
       "    .dataframe thead th {\n",
       "        text-align: right;\n",
       "    }\n",
       "</style>\n",
       "<table border=\"1\" class=\"dataframe\">\n",
       "  <thead>\n",
       "    <tr style=\"text-align: right;\">\n",
       "      <th></th>\n",
       "      <th>name</th>\n",
       "      <th>person_status</th>\n",
       "      <th>url</th>\n",
       "      <th>start_date</th>\n",
       "      <th>answer_time</th>\n",
       "      <th>first_sold_time</th>\n",
       "      <th>n_active</th>\n",
       "      <th>n_finished</th>\n",
       "      <th>active_finished_ratio</th>\n",
       "      <th>min_active_cost</th>\n",
       "      <th>max_active_cost</th>\n",
       "      <th>mean_active_cost</th>\n",
       "      <th>min_finished_cost</th>\n",
       "      <th>max_finished_cost</th>\n",
       "      <th>mean_finished_cost</th>\n",
       "    </tr>\n",
       "  </thead>\n",
       "  <tbody>\n",
       "    <tr>\n",
       "      <th>0</th>\n",
       "      <td>юлия</td>\n",
       "      <td>частное лицо</td>\n",
       "      <td>https://www.avito.ru/user/e675b5aa6a59a49a07f1...</td>\n",
       "      <td>735933.0</td>\n",
       "      <td>NaN</td>\n",
       "      <td>736637.0</td>\n",
       "      <td>5</td>\n",
       "      <td>4</td>\n",
       "      <td>1.200000</td>\n",
       "      <td>700.0</td>\n",
       "      <td>2000.0</td>\n",
       "      <td>1500.000000</td>\n",
       "      <td>1500.0</td>\n",
       "      <td>48000.0</td>\n",
       "      <td>14250.000000</td>\n",
       "    </tr>\n",
       "    <tr>\n",
       "      <th>1</th>\n",
       "      <td>тимур</td>\n",
       "      <td>частное лицо</td>\n",
       "      <td>https://www.avito.ru/user/fe7fd0b1265035089870...</td>\n",
       "      <td>736238.0</td>\n",
       "      <td>Редко отвечает на сообщения, рекомендуем звонить</td>\n",
       "      <td>736569.0</td>\n",
       "      <td>9</td>\n",
       "      <td>38</td>\n",
       "      <td>0.256410</td>\n",
       "      <td>15000.0</td>\n",
       "      <td>160000.0</td>\n",
       "      <td>95000.000000</td>\n",
       "      <td>6000.0</td>\n",
       "      <td>135000.0</td>\n",
       "      <td>30965.789474</td>\n",
       "    </tr>\n",
       "    <tr>\n",
       "      <th>2</th>\n",
       "      <td>мария</td>\n",
       "      <td>частное лицо</td>\n",
       "      <td>https://www.avito.ru/user/00713ae8806f3a6463b0...</td>\n",
       "      <td>734289.0</td>\n",
       "      <td>Отвечает за несколько часов</td>\n",
       "      <td>736932.0</td>\n",
       "      <td>17</td>\n",
       "      <td>7</td>\n",
       "      <td>2.250000</td>\n",
       "      <td>150.0</td>\n",
       "      <td>20000.0</td>\n",
       "      <td>1926.470588</td>\n",
       "      <td>100.0</td>\n",
       "      <td>3600.0</td>\n",
       "      <td>1000.000000</td>\n",
       "    </tr>\n",
       "    <tr>\n",
       "      <th>3</th>\n",
       "      <td>рина</td>\n",
       "      <td>частное лицо</td>\n",
       "      <td>https://www.avito.ru/user/df057f65bea189cfcfe8...</td>\n",
       "      <td>736968.0</td>\n",
       "      <td>Отвечает за несколько часов</td>\n",
       "      <td>736996.0</td>\n",
       "      <td>6</td>\n",
       "      <td>1</td>\n",
       "      <td>3.500000</td>\n",
       "      <td>50.0</td>\n",
       "      <td>1300.0</td>\n",
       "      <td>441.666667</td>\n",
       "      <td>230.0</td>\n",
       "      <td>230.0</td>\n",
       "      <td>230.000000</td>\n",
       "    </tr>\n",
       "    <tr>\n",
       "      <th>4</th>\n",
       "      <td>ольга</td>\n",
       "      <td>компания</td>\n",
       "      <td>https://www.avito.ru/user/73faa702e229be14ee50...</td>\n",
       "      <td>735203.0</td>\n",
       "      <td>Отвечает за несколько часов</td>\n",
       "      <td>735780.0</td>\n",
       "      <td>41</td>\n",
       "      <td>81</td>\n",
       "      <td>0.512195</td>\n",
       "      <td>500.0</td>\n",
       "      <td>8000.0</td>\n",
       "      <td>2036.585366</td>\n",
       "      <td>0.0</td>\n",
       "      <td>12000.0</td>\n",
       "      <td>1777.160494</td>\n",
       "    </tr>\n",
       "  </tbody>\n",
       "</table>\n",
       "</div>"
      ],
      "text/plain": [
       "    name person_status                                                url  \\\n",
       "0   юлия  частное лицо  https://www.avito.ru/user/e675b5aa6a59a49a07f1...   \n",
       "1  тимур  частное лицо  https://www.avito.ru/user/fe7fd0b1265035089870...   \n",
       "2  мария  частное лицо  https://www.avito.ru/user/00713ae8806f3a6463b0...   \n",
       "3   рина  частное лицо  https://www.avito.ru/user/df057f65bea189cfcfe8...   \n",
       "4  ольга      компания  https://www.avito.ru/user/73faa702e229be14ee50...   \n",
       "\n",
       "   start_date                                       answer_time  \\\n",
       "0    735933.0                                               NaN   \n",
       "1    736238.0  Редко отвечает на сообщения, рекомендуем звонить   \n",
       "2    734289.0                       Отвечает за несколько часов   \n",
       "3    736968.0                       Отвечает за несколько часов   \n",
       "4    735203.0                       Отвечает за несколько часов   \n",
       "\n",
       "   first_sold_time  n_active  n_finished  active_finished_ratio  \\\n",
       "0         736637.0         5           4               1.200000   \n",
       "1         736569.0         9          38               0.256410   \n",
       "2         736932.0        17           7               2.250000   \n",
       "3         736996.0         6           1               3.500000   \n",
       "4         735780.0        41          81               0.512195   \n",
       "\n",
       "   min_active_cost  max_active_cost  mean_active_cost  min_finished_cost  \\\n",
       "0            700.0           2000.0       1500.000000             1500.0   \n",
       "1          15000.0         160000.0      95000.000000             6000.0   \n",
       "2            150.0          20000.0       1926.470588              100.0   \n",
       "3             50.0           1300.0        441.666667              230.0   \n",
       "4            500.0           8000.0       2036.585366                0.0   \n",
       "\n",
       "   max_finished_cost  mean_finished_cost  \n",
       "0            48000.0        14250.000000  \n",
       "1           135000.0        30965.789474  \n",
       "2             3600.0         1000.000000  \n",
       "3              230.0          230.000000  \n",
       "4            12000.0         1777.160494  "
      ]
     },
     "execution_count": 241,
     "metadata": {},
     "output_type": "execute_result"
    }
   ],
   "source": [
    "data_full.head()"
   ]
  },
  {
   "cell_type": "code",
   "execution_count": 242,
   "metadata": {},
   "outputs": [
    {
     "data": {
      "text/plain": [
       "(11937, 15)"
      ]
     },
     "execution_count": 242,
     "metadata": {},
     "output_type": "execute_result"
    }
   ],
   "source": [
    "data_full.shape"
   ]
  },
  {
   "cell_type": "code",
   "execution_count": 243,
   "metadata": {},
   "outputs": [],
   "source": [
    "data_full.drop_duplicates(subset=['url'], keep='first', inplace=True)"
   ]
  },
  {
   "cell_type": "code",
   "execution_count": 244,
   "metadata": {},
   "outputs": [
    {
     "data": {
      "text/plain": [
       "(5076, 15)"
      ]
     },
     "execution_count": 244,
     "metadata": {},
     "output_type": "execute_result"
    }
   ],
   "source": [
    "data_full.shape"
   ]
  },
  {
   "cell_type": "code",
   "execution_count": 245,
   "metadata": {},
   "outputs": [],
   "source": [
    "data_full.to_csv('data_full.csv')"
   ]
  }
 ],
 "metadata": {
  "kernelspec": {
   "display_name": "Python 3",
   "language": "python",
   "name": "python3"
  },
  "language_info": {
   "codemirror_mode": {
    "name": "ipython",
    "version": 3
   },
   "file_extension": ".py",
   "mimetype": "text/x-python",
   "name": "python",
   "nbconvert_exporter": "python",
   "pygments_lexer": "ipython3",
   "version": "3.7.0"
  }
 },
 "nbformat": 4,
 "nbformat_minor": 2
}
