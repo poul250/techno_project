{
 "cells": [
  {
   "cell_type": "code",
   "execution_count": null,
   "metadata": {},
   "outputs": [],
   "source": [
    "import re\n",
    "import requests\n",
    "import pandas as pd\n",
    "from hashlib import md5\n",
    "import os"
   ]
  },
  {
   "cell_type": "code",
   "execution_count": null,
   "metadata": {},
   "outputs": [],
   "source": [
    "def get_proxy_gen(file='proxy.txt'):\n",
    "    while True:\n",
    "        with open(file, 'r') as f:\n",
    "            for proxy in f:\n",
    "                yield proxy.strip()\n",
    "\n",
    "def get_proxy():\n",
    "    global proxer\n",
    "    proxy = next(proxer)\n",
    "    return proxy\n",
    "\n",
    "def get_html_page(url):\n",
    "    while True:\n",
    "        try:\n",
    "            proxies = {\n",
    "                'https': 'http://' + get_proxy(),\n",
    "            }\n",
    "            req = requests.get(url, proxies=proxies)\n",
    "            if (not req.ok) or (req.text.find('Доступ временно заблокирован') > 0) or\\\n",
    "                    (req.text.find('Доступ с вашего IP-адреса временно ограничен') > 0):\n",
    "                continue\n",
    "            return req\n",
    "        except Exception as e:\n",
    "#             print(e)\n",
    "            continue\n",
    "proxer = get_proxy_gen()"
   ]
  },
  {
   "cell_type": "code",
   "execution_count": null,
   "metadata": {},
   "outputs": [],
   "source": [
    "urls = list(pd.read_csv(\"data_30.11_21-10.csv\")['url'])\n",
    "data = {'url':[], 'banned':[], 'comment':[]}\n",
    "alerts = ['Ой! Такой страницы на нашем сайте нет :(', 'Страница не найдена', 'Пользователь заблокирован']"
   ]
  },
  {
   "cell_type": "code",
   "execution_count": null,
   "metadata": {},
   "outputs": [],
   "source": [
    "if os.path.isfile('checked_accounts.txt'):\n",
    "    with open('checked_accounts.txt', 'r') as f:\n",
    "        try:\n",
    "            url = next(f)\n",
    "            if url.find('avito.ru') > 0:\n",
    "                while urls[0] != url:\n",
    "                    urls.pop(0)\n",
    "        except Exception as e:\n",
    "            print('checked_accounts.txt error:', e)"
   ]
  },
  {
   "cell_type": "code",
   "execution_count": null,
   "metadata": {},
   "outputs": [],
   "source": [
    "k = 0\n",
    "HASH_MOD = 0\n",
    "\n",
    "for url in urls:\n",
    "    if int(md5(url.encode('utf-8')).hexdigest(), base=16) % 3 != HASH_MOD:\n",
    "        continue\n",
    "    page = get_html_page(url)\n",
    "    data['url'].append(url)\n",
    "    k += 1\n",
    "    for al in alerts:\n",
    "        if page.text.find(al) > 0:\n",
    "            print(url)\n",
    "            data['banned'].append(1)\n",
    "            data['comment'].append(al)\n",
    "            break\n",
    "    else:\n",
    "        data['banned'].append(0)\n",
    "        data['comment'].append(\"\")\n",
    "        \n",
    "    if k % 30 == 0:\n",
    "        df = pd.DataFrame(data)\n",
    "        df.to_csv(os.path.join('banned', 'data{}'.format(str(datetime.now()).replace(':', ''))))\n",
    "        data = {'url':[], 'banned':[], 'comment':[]}\n",
    "        with open('checked_accounts.txt', 'w') as f:\n",
    "            print(url, file=f)\n",
    "        \n",
    "df = pd.DataFrame(data)\n",
    "df.to_csv(os.path.join('banned', 'data{}'.format(str(datetime.now()).replace(':', ''))))"
   ]
  }
 ],
 "metadata": {
  "kernelspec": {
   "display_name": "Python 3",
   "language": "python",
   "name": "python3"
  },
  "language_info": {
   "codemirror_mode": {
    "name": "ipython",
    "version": 3
   },
   "file_extension": ".py",
   "mimetype": "text/x-python",
   "name": "python",
   "nbconvert_exporter": "python",
   "pygments_lexer": "ipython3",
   "version": "3.6.5"
  }
 },
 "nbformat": 4,
 "nbformat_minor": 2
}
