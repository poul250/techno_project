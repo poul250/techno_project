{
 "cells": [
  {
   "cell_type": "markdown",
   "metadata": {},
   "source": [
    "Парсим сайт avito.ru\n",
    "Фичи, которые будем вытаскивать с сайта:\n",
    "\n",
    "0 рублёф - неуказанная цена!!!!\n",
    "\n",
    "1) Дата регистрации\n",
    "2) Дата первого проданного товара\n",
    "3) По имени постараться определить пол, и смотреть, продаёт ли он одежду не соответствующую своему полу.\n",
    "4) Компания/Челокек\n",
    "5) Время ответа\n",
    "6) Среднее время между размещением товара, продажей, тыры пыры и тд\n",
    "7) Присутствие номера телефона и почты. ???\n",
    "8) Колисчество активных, завершенных товаров, отношение активных ко всем\n",
    "9) Наличие аватарки\n",
    "10) брать перцентиль (какой нибудь средний, шобы повыкидывать далёкие по цене)\n",
    "11) "
   ]
  },
  {
   "cell_type": "code",
   "execution_count": null,
   "metadata": {},
   "outputs": [],
   "source": []
  }
 ],
 "metadata": {
  "kernelspec": {
   "display_name": "Python 3",
   "language": "python",
   "name": "python3"
  },
  "language_info": {
   "codemirror_mode": {
    "name": "ipython",
    "version": 3
   },
   "file_extension": ".py",
   "mimetype": "text/x-python",
   "name": "python",
   "nbconvert_exporter": "python",
   "pygments_lexer": "ipython3",
   "version": "3.6.5"
  }
 },
 "nbformat": 4,
 "nbformat_minor": 2
}
